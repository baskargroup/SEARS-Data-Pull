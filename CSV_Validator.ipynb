{
  "nbformat": 4,
  "nbformat_minor": 0,
  "metadata": {
    "colab": {
      "provenance": []
    },
    "kernelspec": {
      "name": "python3",
      "display_name": "Python 3"
    },
    "language_info": {
      "name": "python"
    }
  },
  "cells": [
    {
      "cell_type": "code",
      "execution_count": null,
      "metadata": {
        "id": "vQyKhK122jyc"
      },
      "outputs": [],
      "source": [
        "import os\n",
        "import pandas as pd\n",
        "\n",
        "# Folder containing CSV files\n",
        "folder_path = \"folder_with_csv_files\"\n",
        "\n",
        "# List to store failed files\n",
        "failed_files = []\n",
        "\n",
        "# Function to check CSV file\n",
        "def check_csv(file_path):\n",
        "    failed_checks = []\n",
        "    try:\n",
        "        df = pd.read_csv(file_path, header=None)\n",
        "    except FileNotFoundError:\n",
        "        print(f\"File {file_path} not found.\")\n",
        "        return\n",
        "\n",
        "    # Check number of columns\n",
        "    if len(df.columns) != 2:\n",
        "        failed_checks.append(\"does not contain exactly 2 columns.\")\n",
        "\n",
        "    # Check for NaN values\n",
        "    if df.isnull().values.any():\n",
        "        failed_checks.append(\"contains NaN values.\")\n",
        "\n",
        "    # Check for alpha characters\n",
        "    if df.applymap(lambda x: isinstance(x, str)).values.any():\n",
        "        failed_checks.append(\"contains alpha characters.\")\n",
        "\n",
        "    if failed_checks:\n",
        "        failed_files.append((file_path, failed_checks))\n",
        "    else:\n",
        "        print(f\"File {file_path} passes all checks.\")\n"
      ]
    },
    {
      "cell_type": "code",
      "source": [
        "# Iterate over CSV files in the folder\n",
        "for file_name in os.listdir(folder_path):\n",
        "    if file_name.endswith(\".csv\"):\n",
        "        file_path = os.path.join(folder_path, file_name)\n",
        "        check_csv(file_path)\n",
        "\n",
        "# Generate report for failed files\n",
        "if failed_files:\n",
        "    print(\"\\nFailed Files:\")\n",
        "    for file_path, failed_checks in failed_files:\n",
        "        print(f\"File: {file_path}\")\n",
        "        for check in failed_checks:\n",
        "            print(f\"- {check}\")\n",
        "else:\n",
        "    print(\"All files pass the checks.\")"
      ],
      "metadata": {
        "id": "W3H6HyLP2uAp"
      },
      "execution_count": null,
      "outputs": []
    },
    {
      "cell_type": "code",
      "source": [],
      "metadata": {
        "id": "rk17lrpx3EIt"
      },
      "execution_count": null,
      "outputs": []
    }
  ]
}